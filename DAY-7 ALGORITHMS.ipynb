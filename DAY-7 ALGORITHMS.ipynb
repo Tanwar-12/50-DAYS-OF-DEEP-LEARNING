{
 "cells": [
  {
   "cell_type": "markdown",
   "id": "a5602dc6-4df1-4c08-b54c-6a8d39b5277f",
   "metadata": {},
   "source": [
    "# **DEEP LEARNING ALGORITHMS**"
   ]
  },
  {
   "cell_type": "markdown",
   "id": "9d5dba9b-52f8-4bbe-873a-d696b80f5d92",
   "metadata": {},
   "source": [
    "**Deep learning is a subset of machine learning where artificial neural networks, inspired by the structure of the human brain, learn from large amounts of data.**\n",
    "\n",
    " **There are various types of deep learning algorithms, each suited for different tasks:**"
   ]
  },
  {
   "cell_type": "markdown",
   "id": "802363e1-f99f-4e66-ad39-7756bc5ba85f",
   "metadata": {},
   "source": [
    "## _**1.Feedforward Neural Networks (FNN):**_\n",
    "* Basic neural networks where data moves in one direction, from input to output layer."
   ]
  },
  {
   "cell_type": "code",
   "execution_count": null,
   "id": "b76b4c7f-9b57-4a7e-b532-b9c8f2d0fdb2",
   "metadata": {},
   "outputs": [],
   "source": [
    "from keras.models import Sequential\n",
    "from keras.layers import Dense\n",
    "\n",
    "model = Sequential([\n",
    "    Dense(64, activation='relu', input_shape=(100,)),\n",
    "    Dense(10, activation='softmax')\n",
    "])\n"
   ]
  },
  {
   "cell_type": "markdown",
   "id": "cbafef0b-ead9-432a-b100-429b6cdbd04c",
   "metadata": {},
   "source": [
    "## _**2.Convolutional Neural Networks (CNN):**_ \n",
    "\n",
    "* Particularly effective for image recognition, they use convolutional layers to detect patterns.\n",
    "\n"
   ]
  },
  {
   "cell_type": "code",
   "execution_count": null,
   "id": "dc54d421-c7e1-40f9-b286-022f800db71e",
   "metadata": {},
   "outputs": [],
   "source": [
    "from keras.models import Sequential\n",
    "from keras.layers import Conv2D, MaxPooling2D, Flatten, Dense\n",
    "\n",
    "model = Sequential([\n",
    "    Conv2D(32, (3, 3), activation='relu', input_shape=(28, 28, 1)),\n",
    "    MaxPooling2D((2, 2)),\n",
    "    Flatten(),\n",
    "    Dense(10, activation='softmax')\n",
    "])\n"
   ]
  },
  {
   "cell_type": "markdown",
   "id": "68e0fe26-995a-4918-a8f0-c72c16fb0071",
   "metadata": {},
   "source": [
    "## _3.**Recurrent Neural Networks (RNN):**_ \n",
    "* Suitable for sequential data, with loops to allow information persistence."
   ]
  },
  {
   "cell_type": "code",
   "execution_count": null,
   "id": "68e63c08-5716-4460-96d0-dced39db07d9",
   "metadata": {},
   "outputs": [],
   "source": [
    "from keras.models import Sequential\n",
    "from keras.layers import SimpleRNN, Dense\n",
    "\n",
    "model = Sequential([\n",
    "    SimpleRNN(32, input_shape=(None, 100)),\n",
    "    Dense(10, activation='softmax')\n",
    "])\n"
   ]
  },
  {
   "cell_type": "markdown",
   "id": "e8b1533e-f4da-482c-8df9-6804ab90252c",
   "metadata": {},
   "source": [
    "## 4._**Long Short-Term Memory Networks (LSTM):**_ \n",
    "* A type of RNN, capable of learning long-term dependencies."
   ]
  },
  {
   "cell_type": "code",
   "execution_count": null,
   "id": "f933368c-575d-41df-b559-c5353f8ce131",
   "metadata": {},
   "outputs": [],
   "source": [
    "from keras.models import Sequential\n",
    "from keras.layers import LSTM, Dense\n",
    "\n",
    "model = Sequential([\n",
    "    LSTM(32, input_shape=(None, 100)),\n",
    "    Dense(10, activation='softmax')\n",
    "])\n"
   ]
  },
  {
   "cell_type": "markdown",
   "id": "fb328b4e-3f4b-4f76-9c12-d92907031a68",
   "metadata": {},
   "source": [
    "## **5._Generative Adversarial Networks (GANs):_** \n",
    "* Consists of two neural networks, a generator and a discriminator, trained simultaneously to generate realistic data."
   ]
  },
  {
   "cell_type": "code",
   "execution_count": null,
   "id": "3ac8b701-b798-447f-9455-029f84f56bc3",
   "metadata": {},
   "outputs": [],
   "source": [
    "from keras.models import Sequential\n",
    "from keras.layers import Dense, Reshape, Flatten\n",
    "from keras.layers import Conv2D, Conv2DTranspose\n",
    "from keras.optimizers import Adam\n",
    "\n",
    "generator = Sequential([\n",
    "    Dense(128 * 7 * 7, input_dim=100, activation='relu'),\n",
    "    Reshape((7, 7, 128)),\n",
    "    Conv2DTranspose(128, (4,4), strides=(2,2), padding='same', activation='relu'),\n",
    "    Conv2DTranspose(1, (4,4), strides=(2,2), padding='same', activation='tanh')\n",
    "])\n",
    "\n",
    "discriminator = Sequential([\n",
    "    Conv2D(64, (3,3), strides=(2,2), padding='same', input_shape=(28,28,1), activation='relu'),\n",
    "    Conv2D(128, (3,3), strides=(2,2), padding='same', activation='relu'),\n",
    "    Flatten(),\n",
    "    Dense(1, activation='sigmoid')\n",
    "])\n"
   ]
  },
  {
   "cell_type": "markdown",
   "id": "e44905cd-0781-486c-be75-178a290ba94e",
   "metadata": {},
   "source": [
    "## **_6. Autoencoders_** \n",
    "* Neural networks trained to copy their inputs to their outputs, typically used for dimensionality reduction or data denoising."
   ]
  },
  {
   "cell_type": "code",
   "execution_count": null,
   "id": "00cf5fb7-64b0-4052-b0dc-5d4c9a1de1ef",
   "metadata": {},
   "outputs": [],
   "source": [
    "from keras.models import Sequential\n",
    "from keras.layers import Dense\n",
    "\n",
    "encoder = Sequential([\n",
    "    Dense(128, activation='relu', input_shape=(784,)),\n",
    "    Dense(64, activation='relu')\n",
    "])\n",
    "\n",
    "decoder = Sequential([\n",
    "    Dense(128, activation='relu', input_shape=(64,)),\n",
    "    Dense(784, activation='sigmoid')\n",
    "])\n"
   ]
  },
  {
   "cell_type": "markdown",
   "id": "a70d5597-b4cd-40ea-9a39-afedc2b07886",
   "metadata": {},
   "source": [
    "## _7.**Deep Reinforcement Learning (DRL):**_ \n",
    "* Integrates deep learning with reinforcement learning, allowing agents to learn to make decisions by trial and error."
   ]
  },
  {
   "cell_type": "code",
   "execution_count": null,
   "id": "69be2c5b-3c3c-4962-8e79-64a9e01113bd",
   "metadata": {},
   "outputs": [],
   "source": [
    "import tensorflow as tf\n",
    "from tensorflow.keras import layers, models, optimizers\n",
    "\n",
    "model = models.Sequential([\n",
    "    layers.Conv2D(32, (3, 3), activation='relu', input_shape=(32, 32, 3)),\n",
    "    layers.MaxPooling2D((2, 2)),\n",
    "    layers.Conv2D(64, (3, 3), activation='relu'),\n",
    "    layers.MaxPooling2D((2, 2)),\n",
    "    layers.Conv2D(64, (3, 3), activation='relu'),\n",
    "    layers.Flatten(),\n",
    "    layers.Dense(64, activation='relu'),\n",
    "    layers.Dense(10)\n",
    "])\n"
   ]
  }
 ],
 "metadata": {
  "kernelspec": {
   "display_name": "Python 3 (ipykernel)",
   "language": "python",
   "name": "python3"
  },
  "language_info": {
   "codemirror_mode": {
    "name": "ipython",
    "version": 3
   },
   "file_extension": ".py",
   "mimetype": "text/x-python",
   "name": "python",
   "nbconvert_exporter": "python",
   "pygments_lexer": "ipython3",
   "version": "3.11.7"
  }
 },
 "nbformat": 4,
 "nbformat_minor": 5
}
